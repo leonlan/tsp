{
 "cells": [
  {
   "cell_type": "markdown",
   "id": "6329fed5-017a-4068-8fad-c758242fc0f5",
   "metadata": {},
   "source": [
    "# Traveling salesman problem"
   ]
  },
  {
   "cell_type": "markdown",
   "id": "c4b436f9-c42c-4669-aaeb-b7e30fe309f4",
   "metadata": {},
   "source": [
    "## Installation"
   ]
  },
  {
   "cell_type": "markdown",
   "id": "5bcbd547-b078-4eb1-8d22-edb2bbd66de2",
   "metadata": {},
   "source": [
    "If you run this notebook on Colab, install the following dependencies first:"
   ]
  },
  {
   "cell_type": "code",
   "execution_count": null,
   "id": "cb788348-7b9b-4014-9232-1fcd6b6fecb7",
   "metadata": {},
   "outputs": [],
   "source": [
    "# !pip install pyvrp folium scikit-learn"
   ]
  },
  {
   "cell_type": "markdown",
   "id": "52dd21b7-c4af-405e-8f3a-ae0795587e4a",
   "metadata": {},
   "source": [
    "If you run this notebook locally, make sure to install [uv](https://docs.astral.sh/uv/getting-started/installation/) first."
   ]
  },
  {
   "cell_type": "markdown",
   "id": "870595cd-2ae7-434b-8d2f-e880aaf6389e",
   "metadata": {},
   "source": [
    "## Data"
   ]
  },
  {
   "cell_type": "code",
   "execution_count": null,
   "id": "dd53636c-9e11-4f88-a9f4-574c97ab399b",
   "metadata": {},
   "outputs": [],
   "source": [
    "DATA = \"\"\"Name,Latitude,Longitude\n",
    "Amsterdam,52.3676,4.9041\n",
    "Rotterdam,51.9225,4.47917\n",
    "The Hague (Den Haag),52.0705,4.3007\n",
    "Utrecht,52.0907,5.1214\n",
    "Eindhoven,51.4416,5.4697\n",
    "Groningen,53.2194,6.5665\n",
    "Tilburg,51.5555,5.0913\n",
    "Almere,52.3508,5.2647\n",
    "Breda,51.5719,4.7683\n",
    "Nijmegen,51.8425,5.8528\n",
    "Enschede,52.2215,6.8937\n",
    "Haarlem,52.3874,4.6462\n",
    "Arnhem,51.9851,5.8987\n",
    "Zaanstad,52.4571,4.7510\n",
    "'s-Hertogenbosch (Den Bosch),51.6992,5.3040\n",
    "Amersfoort,52.1561,5.3878\n",
    "Haarlemmermeer,52.3014,4.6910\n",
    "Maastricht,50.8514,5.6900\n",
    "Leiden,52.1601,4.4970\n",
    "Dordrecht,51.8133,4.6901\n",
    "Zoetermeer,52.0575,4.4931\n",
    "Zwolle,52.5168,6.0830\n",
    "Leeuwarden,53.2012,5.8086\n",
    "Alkmaar,52.6324,4.7534\n",
    "Emmen,52.7850,6.8976\n",
    "Westland,52.0240,4.2000\n",
    "Delft,52.0116,4.3571\n",
    "Deventer,52.2550,6.1639\n",
    "Helmond,51.4793,5.6570\n",
    "Heerlen,50.8882,5.9795\n",
    "Hilversum,52.2292,5.1669\n",
    "Oss,51.7650,5.5183\n",
    "Sittard-Geleen,50.9950,5.8667\n",
    "Hengelo,52.2653,6.7931\n",
    "Purmerend,52.5050,4.9597\n",
    "Roosendaal,51.5308,4.4653\n",
    "Schiedam,51.9167,4.4000\n",
    "Lelystad,52.5185,5.4714\n",
    "Almelo,52.3670,6.6683\n",
    "Spijkenisse,51.8450,4.3292\n",
    "Hoorn,52.6425,5.0597\n",
    "Vlaardingen,51.9125,4.3417\n",
    "Venlo,51.3704,6.1724\n",
    "Nieuwegein,52.0292,5.0806\n",
    "Gouda,52.0116,4.7100\n",
    "Assen,52.9925,6.5642\n",
    "Veenendaal,52.0286,5.5589\n",
    "Bergen op Zoom,51.4939,4.2917\n",
    "Capelle aan den IJssel,51.9292,4.5778\n",
    "Katwijk,52.2039,4.3986\n",
    "Zeist,52.0906,5.2333\"\"\""
   ]
  },
  {
   "cell_type": "markdown",
   "id": "238a6d34-d3cb-403a-8a4d-6db6867cea96",
   "metadata": {},
   "source": [
    "## Imports"
   ]
  },
  {
   "cell_type": "code",
   "execution_count": null,
   "id": "61a39974-34d4-437f-879a-12e0fcb8d8de",
   "metadata": {},
   "outputs": [],
   "source": [
    "import pandas as pd\n",
    "import folium\n",
    "from IPython.display import display\n",
    "import io\n",
    "from dataclasses import dataclass\n",
    "import random\n",
    "import numpy as np\n",
    "from copy import copy"
   ]
  },
  {
   "cell_type": "markdown",
   "id": "03c474b1-af03-49b5-a478-3ff223ea8c78",
   "metadata": {},
   "source": [
    "## Utility functions"
   ]
  },
  {
   "cell_type": "code",
   "execution_count": null,
   "id": "5d57f9c2-6b33-4c3f-9398-351c3fa108ce",
   "metadata": {},
   "outputs": [],
   "source": [
    "def draw(df, tour=None):\n",
    "    \"\"\"\n",
    "    Draws a map with location markers and lines connecting points according\n",
    "    to a specified tour.\n",
    "\n",
    "    Parameters:\n",
    "    -----------\n",
    "    df: pd.DataFrame\n",
    "        DataFrame containing at minimum 'Latitude' and 'Longitude' columns.\n",
    "    tour: list\n",
    "        List of indices specifying the order to connect points.\n",
    "        If None, no lines are drawn.\n",
    "    \"\"\"\n",
    "    center_lat = 52.1326\n",
    "    center_lon = 5.2913\n",
    "    zoom_start = 7\n",
    "    width = 400\n",
    "    height = 420\n",
    "    point_radius = 0.1\n",
    "    point_color = \"red\"\n",
    "    line_color = \"blue\"\n",
    "    line_weight = 2\n",
    "\n",
    "    fmap = folium.Map(\n",
    "        location=[center_lat, center_lon],\n",
    "        zoom_start=zoom_start,\n",
    "        tiles=\"Cartodb positron\",\n",
    "        width=width,\n",
    "        height=height,\n",
    "    )\n",
    "\n",
    "    for _, row in df.iterrows():\n",
    "        popup = f\"{row['Name']}\" if \"Name\" in df.columns else None\n",
    "        folium.CircleMarker(\n",
    "            location=[row[\"Latitude\"], row[\"Longitude\"]],\n",
    "            radius=point_radius,\n",
    "            popup=popup,\n",
    "            color=point_color,\n",
    "            fill=True,\n",
    "            fill_color=point_color,\n",
    "            fill_opacity=0.6,\n",
    "        ).add_to(fmap)\n",
    "\n",
    "    if tour is not None:\n",
    "        coordinates = []\n",
    "        for idx in tour:\n",
    "            row = df.iloc[idx]\n",
    "            coordinates.append([row[\"Latitude\"], row[\"Longitude\"]])\n",
    "\n",
    "        if tour[0] != tour[-1]:\n",
    "            coordinates.append(coordinates[0])\n",
    "\n",
    "        folium.PolyLine(\n",
    "            locations=coordinates,\n",
    "            color=line_color,\n",
    "            weight=line_weight,\n",
    "            opacity=0.7,\n",
    "        ).add_to(fmap)\n",
    "\n",
    "    return fmap"
   ]
  },
  {
   "cell_type": "code",
   "execution_count": null,
   "id": "45daa06b-ff56-4e84-ada2-6044b47a5de1",
   "metadata": {},
   "outputs": [],
   "source": [
    "df = pd.read_csv(io.StringIO(DATA))\n",
    "\n",
    "# Example usage:\n",
    "tour = [0, 2, 1, 3]  # Example: visit in this order, returning to start\n",
    "draw(df, tour=tour)"
   ]
  },
  {
   "cell_type": "markdown",
   "id": "c1647d21-9482-4774-b6ff-40a9f644e536",
   "metadata": {},
   "source": [
    "### Haversine distance"
   ]
  },
  {
   "cell_type": "code",
   "execution_count": null,
   "id": "2f704b33-d4f8-424e-a9b5-a2280a890406",
   "metadata": {},
   "outputs": [],
   "source": [
    "def haversine(coords: list[tuple[int, int]]) -> np.ndarray:\n",
    "    \"\"\"\n",
    "    Converts coordinates to a Haversine distance matrix (in meters).\n",
    "    \"\"\"\n",
    "\n",
    "    from sklearn.metrics.pairwise import haversine_distances\n",
    "    from math import radians\n",
    "\n",
    "    RADIUS_EARTH = 6371000 # meters\n",
    "\n",
    "    coords_rad = np.array(\n",
    "        [[radians(lat), radians(lon)] for lat, lon in coords]\n",
    "    )\n",
    "    dist_matrix = haversine_distances(coords_rad)\n",
    "    dist_meters = (dist_matrix * RADIUS_EARTH).round() # rads to meters\n",
    "    return dist_meters"
   ]
  },
  {
   "cell_type": "markdown",
   "id": "7bbdc4a6-a7b7-483d-877d-f7adfb95ebe7",
   "metadata": {},
   "source": [
    "### ProblemData"
   ]
  },
  {
   "cell_type": "code",
   "execution_count": null,
   "id": "009c17b9-ac26-4f4f-8e63-ab48055d0fe6",
   "metadata": {},
   "outputs": [],
   "source": [
    "@dataclass\n",
    "class ProblemData:\n",
    "    distances: list[list[int]]\n",
    "\n",
    "    @property\n",
    "    def num_clients(self):\n",
    "        return len(self.distances)"
   ]
  },
  {
   "cell_type": "markdown",
   "id": "55df73b9-6f25-4606-ace9-668888aa560d",
   "metadata": {},
   "source": [
    "### Cost function"
   ]
  },
  {
   "cell_type": "code",
   "execution_count": null,
   "id": "04a09914-7a66-443d-9bd6-fa91267f0e82",
   "metadata": {},
   "outputs": [],
   "source": [
    "def cost(tour, data):\n",
    "    \"\"\"\n",
    "    Computes the cost of a tour.\n",
    "    \"\"\"\n",
    "    nodes = tour + [tour[0]]\n",
    "    frm = nodes[:-1]\n",
    "    to = nodes[1:]\n",
    "    return data.distances[frm, to].sum()"
   ]
  },
  {
   "cell_type": "markdown",
   "id": "b1b79462-6208-4a99-bb0c-cf4730e2921f",
   "metadata": {},
   "source": [
    "## Nearest neighbor"
   ]
  },
  {
   "cell_type": "code",
   "execution_count": null,
   "id": "e08292db-9148-4326-b5d1-d1dc2d147f85",
   "metadata": {},
   "outputs": [],
   "source": [
    "def nearest_neighbor(data: ProblemData) -> list[int]:\n",
    "    current = 0\n",
    "    tour = [current]\n",
    "\n",
    "    while len(tour) < data.num_clients:\n",
    "        best_dist = None\n",
    "        best_neighbour = None \n",
    "\n",
    "        for client in range(data.num_clients):\n",
    "            if client not in tour:\n",
    "                dist = data.distances[current, client]\n",
    "                if best_dist is None or dist < best_dist:\n",
    "                    best_dist = dist \n",
    "                    best_neighbour = client\n",
    "                \n",
    "        neighbor = best_neighbour\n",
    "        tour.append(neighbor)\n",
    "        current = neighbor\n",
    "\n",
    "    return tour"
   ]
  },
  {
   "cell_type": "code",
   "execution_count": null,
   "id": "dcff6bf5-21fc-44f7-8f02-c2e26d026751",
   "metadata": {},
   "outputs": [],
   "source": [
    "coords = df[[\"Latitude\", \"Longitude\"]].values\n",
    "data = ProblemData(haversine(coords))"
   ]
  },
  {
   "cell_type": "code",
   "execution_count": null,
   "id": "064ff558-f153-41d4-a120-cbe8d6f6fa2c",
   "metadata": {},
   "outputs": [],
   "source": [
    "tour = nearest_neighbor(data)\n",
    "cost(tour, data)"
   ]
  },
  {
   "cell_type": "code",
   "execution_count": null,
   "id": "6a1d4e91-a7e8-4267-b4d7-42a64eb21eb4",
   "metadata": {
    "scrolled": true
   },
   "outputs": [],
   "source": [
    "draw(df, tour=tour)"
   ]
  },
  {
   "cell_type": "markdown",
   "id": "a29bb13a-7e7e-4c39-a203-fc4edfbbcc08",
   "metadata": {},
   "source": [
    "## Large neighborhood search"
   ]
  },
  {
   "cell_type": "code",
   "execution_count": null,
   "id": "23b722db-df16-417e-9e91-d53a5aed1433",
   "metadata": {},
   "outputs": [],
   "source": [
    "def large_neighborhood_search(\n",
    "    data: ProblemData,\n",
    "    num_iterations: int,\n",
    "    num_removals: int = 5,\n",
    ") -> list[int]:\n",
    "    curr_tour = nearest_neighbor(data)\n",
    "    curr_cost = cost(curr_tour, data)\n",
    "\n",
    "    for _ in range(num_iterations):\n",
    "        new_tour = copy(curr_tour)\n",
    "        removed = ... # remove random clients\n",
    "\n",
    "        for client in removed: \n",
    "\t\t\tnew_tour = ... # re-insert removed clients\n",
    "\n",
    "        new_cost = cost(new_tour, data)\n",
    "        if new_cost < curr_cost:\n",
    "            curr_cost = new_tour\n",
    "            curr_tour = cand_tour\n",
    "\n",
    "    return curr_tour"
   ]
  },
  {
   "cell_type": "code",
   "execution_count": null,
   "id": "d4df8381-4eb2-403e-8a3e-a9faa7744916",
   "metadata": {},
   "outputs": [],
   "source": [
    "lns = large_neighborhood_search(data, num_iterations=10000, num_removals=5)\n",
    "cost(lns, data)"
   ]
  },
  {
   "cell_type": "code",
   "execution_count": null,
   "id": "fc710587-211b-4e98-b5ec-65439c9e84ea",
   "metadata": {},
   "outputs": [],
   "source": [
    "draw(df, tour=lns)"
   ]
  }
 ],
 "metadata": {
  "kernelspec": {
   "display_name": "Python 3 (ipykernel)",
   "language": "python",
   "name": "python3"
  },
  "language_info": {
   "codemirror_mode": {
    "name": "ipython",
    "version": 3
   },
   "file_extension": ".py",
   "mimetype": "text/x-python",
   "name": "python",
   "nbconvert_exporter": "python",
   "pygments_lexer": "ipython3",
   "version": "3.12.7"
  }
 },
 "nbformat": 4,
 "nbformat_minor": 5
}
